{
 "cells": [
  {
   "cell_type": "code",
   "execution_count": 20,
   "metadata": {
    "collapsed": false
   },
   "outputs": [],
   "source": [
    "from __future__ import absolute_import\n",
    "from __future__ import print_function\n",
    "\n",
    "import numpy as np\n",
    "import pandas as pd\n",
    "import math\n",
    "import ast\n",
    "\n",
    "import h5py\n",
    "import sys\n",
    "np.random.seed(1337)  # for reproducibility\n",
    "\n",
    "from keras.models import Sequential\n",
    "from keras.layers.core import Dense, Dropout, Activation\n",
    "from keras.layers.normalization import BatchNormalization\n",
    "from keras.layers.advanced_activations import PReLU\n",
    "from keras.utils import np_utils, generic_utils\n",
    "from keras import callbacks\n",
    "remote = callbacks.RemoteMonitor(root='http://localhost:9000')\n",
    "\n",
    "from sklearn.preprocessing import LabelEncoder\n",
    "from sklearn.preprocessing import StandardScaler"
   ]
  },
  {
   "cell_type": "code",
   "execution_count": 21,
   "metadata": {
    "collapsed": true
   },
   "outputs": [],
   "source": [
    "\n",
    "def load_data(path, train=True):\n",
    "    df = pd.read_csv(path)\n",
    "    X = df.values.copy()\n",
    "    if train:\n",
    "        np.random.shuffle(X)  \n",
    "        X, labels = X[:, 1:-1].astype(np.float32), X[:, -1]\n",
    "        return X, labels\n",
    "    else:\n",
    "        X, ids = X[:, 1:].astype(np.float32), X[:, 0].astype(str)\n",
    "        return X, ids\n",
    "\n",
    "\n",
    "def preprocess_data(X, scaler=None):\n",
    "    if not scaler:\n",
    "        scaler = StandardScaler()\n",
    "        scaler.fit(X)\n",
    "    X = scaler.transform(X)\n",
    "    return X, scaler\n",
    "\n",
    "\n",
    "def preprocess_labels(labels, encoder=None, categorical=True):\n",
    "    if not encoder:\n",
    "        encoder = LabelEncoder()\n",
    "        encoder.fit(labels)\n",
    "    y = encoder.transform(labels).astype(np.int32)\n",
    "    if categorical:\n",
    "        y = np_utils.to_categorical(y)\n",
    "    return y, encoder\n",
    "\n",
    "\n",
    "def make_submission(y_prob, ids, encoder, fname):\n",
    "    with open(fname, 'w') as f:\n",
    "        f.write('id,')\n",
    "        f.write(','.join([str(i) for i in encoder.classes_]))\n",
    "        f.write('\\n')\n",
    "        for i, probs in zip(ids, y_prob):\n",
    "            probas = ','.join([i] + [str(p) for p in probs.tolist()])\n",
    "            f.write(probas)\n",
    "            f.write('\\n')\n",
    "    print(\"Wrote submission to file {}.\".format(fname))"
   ]
  },
  {
   "cell_type": "code",
   "execution_count": 22,
   "metadata": {
    "collapsed": false
   },
   "outputs": [
    {
     "name": "stdout",
     "output_type": "stream",
     "text": [
      "Loading data...\n",
      "9 classes\n",
      "93 dims\n"
     ]
    }
   ],
   "source": [
    "print(\"Loading data...\")\n",
    "X, labels = load_data('otto/train.csv', train=True)\n",
    "X, scaler = preprocess_data(X)\n",
    "y, encoder = preprocess_labels(labels)\n",
    "\n",
    "X_test, ids = load_data('otto/test.csv', train=False)\n",
    "X_test, _ = preprocess_data(X_test, scaler)\n",
    "\n",
    "nb_classes = y.shape[1]\n",
    "print(nb_classes, 'classes')\n",
    "\n",
    "dims = X.shape[1]\n",
    "print(dims, 'dims')\n",
    "\n"
   ]
  },
  {
   "cell_type": "code",
   "execution_count": 23,
   "metadata": {
    "collapsed": false
   },
   "outputs": [
    {
     "name": "stdout",
     "output_type": "stream",
     "text": [
      "Building model...\n"
     ]
    }
   ],
   "source": [
    "print(\"Building model...\")\n",
    "model = Sequential()\n",
    "model.add(Dense(dims, 512, init='glorot_uniform'))\n",
    "model.add(PReLU((512,)))\n",
    "model.add(BatchNormalization((512,)))\n",
    "model.add(Dropout(0.5))\n",
    "\n",
    "model.add(Dense(512, 512, init='glorot_uniform'))\n",
    "model.add(PReLU((512,)))\n",
    "model.add(BatchNormalization((512,)))\n",
    "model.add(Dropout(0.5))\n",
    "\n",
    "model.add(Dense(512, 512, init='glorot_uniform'))\n",
    "model.add(PReLU((512,)))\n",
    "model.add(BatchNormalization((512,)))\n",
    "model.add(Dropout(0.5))\n",
    "\n",
    "model.add(Dense(512, nb_classes, init='glorot_uniform'))\n",
    "model.add(Activation('softmax'))\n",
    "\n",
    "model.compile(loss='categorical_crossentropy', optimizer=\"adam\")\n"
   ]
  },
  {
   "cell_type": "code",
   "execution_count": 33,
   "metadata": {
    "collapsed": false
   },
   "outputs": [
    {
     "name": "stdout",
     "output_type": "stream",
     "text": [
      "[[-0.25351954 -0.21006845 -0.30717063 ..., -0.12956563 -0.38694546\n",
      "  -0.10497295]\n",
      " [-0.25351954 -0.21006845 -0.30717063 ..., -0.12956563 -0.38694546\n",
      "  -0.10497295]\n",
      " [-0.25351954 -0.21006845  1.39655519 ..., -0.12956563  0.63101345\n",
      "  -0.10497295]\n",
      " ..., \n",
      " [-0.25351954 -0.21006845 -0.30717063 ..., -0.12956563 -0.38694546\n",
      "  -0.10497295]\n",
      " [-0.25351954 -0.21006845 -0.30717063 ..., -0.12956563 -0.38694546\n",
      "  -0.10497295]\n",
      " [-0.25351954 -0.21006845 -0.30717063 ..., -0.12956563 -0.38694546\n",
      "  -0.10497295]]\n",
      "[[ 1.  0.  0. ...,  0.  0.  0.]\n",
      " [ 0.  1.  0. ...,  0.  0.  0.]\n",
      " [ 0.  0.  0. ...,  0.  0.  0.]\n",
      " ..., \n",
      " [ 0.  0.  0. ...,  0.  0.  0.]\n",
      " [ 0.  0.  0. ...,  0.  0.  1.]\n",
      " [ 0.  1.  0. ...,  0.  0.  0.]]\n"
     ]
    }
   ],
   "source": [
    "print (X)\n",
    "print (y)"
   ]
  },
  {
   "cell_type": "code",
   "execution_count": null,
   "metadata": {
    "collapsed": false
   },
   "outputs": [
    {
     "name": "stdout",
     "output_type": "stream",
     "text": [
      "Training model...\n",
      "Train on 52596 samples, validate on 9282 samples\n",
      "Epoch 0\n",
      "52596/52596 [==============================] - 33s - loss: 0.4317 - acc: 0.8267 - val_loss: 0.4980 - val_acc: 0.8073\n",
      "Epoch 1\n",
      " 9088/52596 [====>.........................] - ETA: 29s - loss: 0.4269 - acc: 0.8283"
     ]
    }
   ],
   "source": [
    "\n",
    "print(\"Training model...\")\n",
    "\n",
    "model.fit(X, y, nb_epoch=20, batch_size=128, validation_split=0.15,callbacks=[remote],show_accuracy=True)\n"
   ]
  },
  {
   "cell_type": "code",
   "execution_count": 43,
   "metadata": {
    "collapsed": false
   },
   "outputs": [
    {
     "name": "stdout",
     "output_type": "stream",
     "text": [
      "Generating submission...\n",
      "144368/144368 [==============================] - 11s    \n",
      "[[  1.46647332e-04   3.89051336e-01   3.08881463e-01 ...,   3.90837949e-03\n",
      "    1.01941808e-04   9.17399650e-05]\n",
      " [  2.73822839e-04   1.26874818e-04   5.07051475e-05 ...,   5.44620673e-04\n",
      "    4.09600495e-01   5.26564298e-04]\n",
      " [  7.10318091e-10   1.02060842e-11   4.75442326e-12 ...,   3.04166051e-10\n",
      "    2.87826749e-06   6.20159396e-08]\n",
      " ..., \n",
      " [  9.44453122e-05   3.56525610e-01   5.47618001e-01 ...,   6.66131798e-03\n",
      "    1.67525110e-03   7.91098851e-04]\n",
      " [  1.37764686e-04   5.46825135e-01   5.57123240e-02 ...,   2.94399418e-04\n",
      "    2.70151923e-05   1.92963564e-04]\n",
      " [  2.53428451e-04   4.69088364e-01   4.38677559e-01 ...,   2.55371342e-02\n",
      "    2.64639969e-04   1.54532527e-04]]\n",
      "Wrote submission to file keras-otto.csv.\n"
     ]
    }
   ],
   "source": [
    "model.save_weights(\"otto1.hdf5\",overwrite=True)\n",
    "f = h5py.File('otto1.hdf5','r')\n",
    "print(\"Generating submission...\")\n",
    "\n",
    "proba = model.predict_proba(X_test)\n",
    "print(proba)\n",
    "make_submission(proba, ids, encoder, fname='keras-otto.csv')"
   ]
  },
  {
   "cell_type": "code",
   "execution_count": null,
   "metadata": {
    "collapsed": true
   },
   "outputs": [],
   "source": []
  }
 ],
 "metadata": {
  "kernelspec": {
   "display_name": "Python 2",
   "language": "python",
   "name": "python2"
  },
  "language_info": {
   "codemirror_mode": {
    "name": "ipython",
    "version": 2
   },
   "file_extension": ".py",
   "mimetype": "text/x-python",
   "name": "python",
   "nbconvert_exporter": "python",
   "pygments_lexer": "ipython2",
   "version": "2.7.10"
  }
 },
 "nbformat": 4,
 "nbformat_minor": 0
}
